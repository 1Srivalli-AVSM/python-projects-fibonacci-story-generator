{
  "nbformat": 4,
  "nbformat_minor": 0,
  "metadata": {
    "colab": {
      "name": "Project 1.ipynb",
      "provenance": [],
      "collapsed_sections": []
    },
    "kernelspec": {
      "name": "python3",
      "display_name": "Python 3"
    },
    "language_info": {
      "name": "python"
    }
  },
  "cells": [
    {
      "cell_type": "code",
      "metadata": {
        "colab": {
          "base_uri": "https://localhost:8080/"
        },
        "id": "quVkqmMlwr4M",
        "outputId": "b77f5a2c-6760-48d8-9b1a-bf033305bfe9"
      },
      "source": [
        "import numpy as n\n",
        "\n",
        "print(\"\\t\\t\\tThe Story Generator Game!\")\n",
        "c = input(\"Hello! ('readername')\")\n",
        "print()\n",
        "\n",
        "print(\"Got some time to kill? :D \\n\")\n",
        "print(\"Do something interesting! Maybe play? \\n\")\n",
        "print(\"Play this game... /n\")\n",
        "\n",
        "name = (\"Valli\", \"Yashu\", \"Varshi\", \"Nidhi\" ,\"Vaishu\", \"Keerthana\" )\n",
        "places = (\"Telangana\", \"Andhra Pradesh\", \"Odisha\", \"Kerala\")\n",
        "animal = (\"Tiger\", \"Coackroach\", \"lion\", \"snake\")\n",
        "things = (\"stick, hit spray, torch, water bottle\")\n",
        "\n",
        "import random\n",
        "\n",
        "randomname = random.choice(name)\n",
        "\n",
        "randomplaces = random.choice(places)\n",
        "\n",
        "randomanimal = random.choice(animal)\n",
        "\n",
        "randomthings = random.choice(things)\n",
        "\n",
        "story = \"Once upon a time there was a girl named\" + randomname + \"She lived in\" + randomplaces + \"She went to an animal safari with her friends. They were enjoying it. Suddenly a\" + randomanimal + \"came.They had\" + randomthings + \"in their bags with which they escaped. All were brave but\" + randomname + \"showed extreme courage and was applauded by all for that.\"\n",
        "\n",
        "print(story)\n",
        "\n",
        "\n"
      ],
      "execution_count": null,
      "outputs": [
        {
          "output_type": "stream",
          "text": [
            "\t\t\tThe Story Generator Game!\n",
            "Hello! ('readername')valli\n",
            "\n",
            "Got some time to kill? :D \n",
            "\n",
            "Do something interesting! Maybe play? \n",
            "\n",
            "Play this game... /n\n",
            "Once upon a time there was a girl namedVaishuShe lived inKeralaShe went to an animal safari with her friends. They were enjoying it. Suddenly asnakecame.They hadhin their bags with which they escaped. All were brave butVaishushowed extreme courage and was applauded by all for that.\n"
          ],
          "name": "stdout"
        }
      ]
    },
    {
      "cell_type": "code",
      "metadata": {
        "id": "W3ImO8PHwvmZ"
      },
      "source": [
        "x"
      ],
      "execution_count": null,
      "outputs": []
    }
  ]
}