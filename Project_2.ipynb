{
  "nbformat": 4,
  "nbformat_minor": 0,
  "metadata": {
    "colab": {
      "name": "Project 2.ipynb",
      "provenance": [],
      "collapsed_sections": []
    },
    "kernelspec": {
      "name": "python3",
      "display_name": "Python 3"
    },
    "language_info": {
      "name": "python"
    }
  },
  "cells": [
    {
      "cell_type": "code",
      "metadata": {
        "colab": {
          "base_uri": "https://localhost:8080/"
        },
        "id": "rWGg8ytS8fvB",
        "outputId": "99f7e1c6-245b-48d4-843e-0ae2e8d933ba"
      },
      "source": [
        "def fib(n):\n",
        "\n",
        "  a = 0\n",
        "  b = 1 \n",
        "  if n == 1:\n",
        "\n",
        "      print(a)\n",
        "\n",
        "  else: \n",
        "      print(a)\n",
        "      print(b)\n",
        "      for i in range(2,n):\n",
        "          c = a+b\n",
        "          a=b\n",
        "          b=c\n",
        "          print(c)\n",
        "fib(12)\n",
        "\n",
        "\n",
        "\n",
        "\n",
        "\n"
      ],
      "execution_count": 23,
      "outputs": [
        {
          "output_type": "stream",
          "text": [
            "0\n",
            "1\n",
            "1\n",
            "2\n",
            "3\n",
            "5\n",
            "8\n",
            "13\n",
            "21\n",
            "34\n",
            "55\n",
            "89\n"
          ],
          "name": "stdout"
        }
      ]
    }
  ]
}